{
 "cells": [
  {
   "cell_type": "code",
   "execution_count": 71,
   "metadata": {},
   "outputs": [],
   "source": [
    "import requests\n",
    "from bs4 import BeautifulSoup\n",
    "from tqdm import tqdm\n"
   ]
  },
  {
   "cell_type": "code",
   "execution_count": 68,
   "metadata": {},
   "outputs": [
    {
     "data": {
      "text/plain": [
       "'https://books.toscrape.com/catalogue/category/books_1/page-1.html'"
      ]
     },
     "execution_count": 68,
     "metadata": {},
     "output_type": "execute_result"
    }
   ],
   "source": [
    "for i in range(1,51):\n",
    "link='https://books.toscrape.com/catalogue/category/books_1/page-'+str(i)+'.html'"
   ]
  },
  {
   "cell_type": "code",
   "execution_count": 3,
   "metadata": {},
   "outputs": [],
   "source": []
  },
  {
   "cell_type": "code",
   "execution_count": 72,
   "metadata": {},
   "outputs": [
    {
     "name": "stderr",
     "output_type": "stream",
     "text": [
      "  0%|          | 0/50 [00:00<?, ?it/s]"
     ]
    },
    {
     "name": "stderr",
     "output_type": "stream",
     "text": [
      "100%|██████████| 50/50 [01:37<00:00,  1.95s/it]\n"
     ]
    }
   ],
   "source": [
    "data=[]\n",
    "for i in tqdm(range(1,51)):\n",
    "    link='https://books.toscrape.com/catalogue/category/books_1/page-'+str(i)+'.html'\n",
    "    res=requests.get(link)\n",
    "    soup=BeautifulSoup(res.text,'html.parser')\n",
    "    for sp in soup.find_all('li',class_=\"col-xs-6 col-sm-4 col-md-3 col-lg-3\"):\n",
    "        #\n",
    "        img1='https://books.toscrape.com/catalogue'+sp.find('img').get('src')\n",
    "        link='https://books.toscrape.com/catalogue'+sp.find_all('a')[-1].get('href')\n",
    "        title=sp.find_all('a')[-1].get('title')\n",
    "        rating=sp.find('p').get('class')[-1]\n",
    "        price=sp.find('p',class_=\"price_color\").text[2:]\n",
    "        stock=sp.find('p',class_='instock availability').text.strip()\n",
    "        data.append([title,rating,price,stock,link,img1])\n",
    "\n",
    "    \n",
    "    "
   ]
  },
  {
   "cell_type": "code",
   "execution_count": 76,
   "metadata": {},
   "outputs": [],
   "source": [
    "import pandas as pd\n",
    "df=pd.DataFrame(data,columns=['title','rating','price','stock','link','img1'])"
   ]
  },
  {
   "cell_type": "code",
   "execution_count": 77,
   "metadata": {},
   "outputs": [],
   "source": [
    "df.to_csv(\"book.csv\",index=False)"
   ]
  },
  {
   "cell_type": "code",
   "execution_count": 79,
   "metadata": {},
   "outputs": [],
   "source": [
    "df=pd.read_csv(\"book.csv\")"
   ]
  },
  {
   "cell_type": "code",
   "execution_count": 80,
   "metadata": {},
   "outputs": [
    {
     "data": {
      "text/html": [
       "<div>\n",
       "<style scoped>\n",
       "    .dataframe tbody tr th:only-of-type {\n",
       "        vertical-align: middle;\n",
       "    }\n",
       "\n",
       "    .dataframe tbody tr th {\n",
       "        vertical-align: top;\n",
       "    }\n",
       "\n",
       "    .dataframe thead th {\n",
       "        text-align: right;\n",
       "    }\n",
       "</style>\n",
       "<table border=\"1\" class=\"dataframe\">\n",
       "  <thead>\n",
       "    <tr style=\"text-align: right;\">\n",
       "      <th></th>\n",
       "      <th>title</th>\n",
       "      <th>rating</th>\n",
       "      <th>price</th>\n",
       "      <th>stock</th>\n",
       "      <th>link</th>\n",
       "      <th>img1</th>\n",
       "    </tr>\n",
       "  </thead>\n",
       "  <tbody>\n",
       "    <tr>\n",
       "      <th>0</th>\n",
       "      <td>A Light in the Attic</td>\n",
       "      <td>Three</td>\n",
       "      <td>51.77</td>\n",
       "      <td>In stock</td>\n",
       "      <td>https://books.toscrape.com/catalogue../../a-li...</td>\n",
       "      <td>https://books.toscrape.com/catalogue../../../m...</td>\n",
       "    </tr>\n",
       "    <tr>\n",
       "      <th>1</th>\n",
       "      <td>Tipping the Velvet</td>\n",
       "      <td>One</td>\n",
       "      <td>53.74</td>\n",
       "      <td>In stock</td>\n",
       "      <td>https://books.toscrape.com/catalogue../../tipp...</td>\n",
       "      <td>https://books.toscrape.com/catalogue../../../m...</td>\n",
       "    </tr>\n",
       "    <tr>\n",
       "      <th>2</th>\n",
       "      <td>Soumission</td>\n",
       "      <td>One</td>\n",
       "      <td>50.10</td>\n",
       "      <td>In stock</td>\n",
       "      <td>https://books.toscrape.com/catalogue../../soum...</td>\n",
       "      <td>https://books.toscrape.com/catalogue../../../m...</td>\n",
       "    </tr>\n",
       "    <tr>\n",
       "      <th>3</th>\n",
       "      <td>Sharp Objects</td>\n",
       "      <td>Four</td>\n",
       "      <td>47.82</td>\n",
       "      <td>In stock</td>\n",
       "      <td>https://books.toscrape.com/catalogue../../shar...</td>\n",
       "      <td>https://books.toscrape.com/catalogue../../../m...</td>\n",
       "    </tr>\n",
       "    <tr>\n",
       "      <th>4</th>\n",
       "      <td>Sapiens: A Brief History of Humankind</td>\n",
       "      <td>Five</td>\n",
       "      <td>54.23</td>\n",
       "      <td>In stock</td>\n",
       "      <td>https://books.toscrape.com/catalogue../../sapi...</td>\n",
       "      <td>https://books.toscrape.com/catalogue../../../m...</td>\n",
       "    </tr>\n",
       "  </tbody>\n",
       "</table>\n",
       "</div>"
      ],
      "text/plain": [
       "                                   title rating  price     stock  \\\n",
       "0                   A Light in the Attic  Three  51.77  In stock   \n",
       "1                     Tipping the Velvet    One  53.74  In stock   \n",
       "2                             Soumission    One  50.10  In stock   \n",
       "3                          Sharp Objects   Four  47.82  In stock   \n",
       "4  Sapiens: A Brief History of Humankind   Five  54.23  In stock   \n",
       "\n",
       "                                                link  \\\n",
       "0  https://books.toscrape.com/catalogue../../a-li...   \n",
       "1  https://books.toscrape.com/catalogue../../tipp...   \n",
       "2  https://books.toscrape.com/catalogue../../soum...   \n",
       "3  https://books.toscrape.com/catalogue../../shar...   \n",
       "4  https://books.toscrape.com/catalogue../../sapi...   \n",
       "\n",
       "                                                img1  \n",
       "0  https://books.toscrape.com/catalogue../../../m...  \n",
       "1  https://books.toscrape.com/catalogue../../../m...  \n",
       "2  https://books.toscrape.com/catalogue../../../m...  \n",
       "3  https://books.toscrape.com/catalogue../../../m...  \n",
       "4  https://books.toscrape.com/catalogue../../../m...  "
      ]
     },
     "execution_count": 80,
     "metadata": {},
     "output_type": "execute_result"
    }
   ],
   "source": [
    "df.head()"
   ]
  },
  {
   "cell_type": "code",
   "execution_count": 84,
   "metadata": {},
   "outputs": [
    {
     "data": {
      "text/plain": [
       "0      https://books.toscrape.com/catalogue../../../m...\n",
       "1      https://books.toscrape.com/catalogue../../../m...\n",
       "2      https://books.toscrape.com/catalogue../../../m...\n",
       "3      https://books.toscrape.com/catalogue../../../m...\n",
       "4      https://books.toscrape.com/catalogue../../../m...\n",
       "                             ...                        \n",
       "995    https://books.toscrape.com/catalogue../../../m...\n",
       "996    https://books.toscrape.com/catalogue../../../m...\n",
       "997    https://books.toscrape.com/catalogue../../../m...\n",
       "998    https://books.toscrape.com/catalogue../../../m...\n",
       "999    https://books.toscrape.com/catalogue../../../m...\n",
       "Name: img1, Length: 1000, dtype: object"
      ]
     },
     "execution_count": 84,
     "metadata": {},
     "output_type": "execute_result"
    }
   ],
   "source": [
    "df[\"img1\"]"
   ]
  },
  {
   "cell_type": "code",
   "execution_count": null,
   "metadata": {},
   "outputs": [],
   "source": []
  }
 ],
 "metadata": {
  "kernelspec": {
   "display_name": "base",
   "language": "python",
   "name": "python3"
  },
  "language_info": {
   "codemirror_mode": {
    "name": "ipython",
    "version": 3
   },
   "file_extension": ".py",
   "mimetype": "text/x-python",
   "name": "python",
   "nbconvert_exporter": "python",
   "pygments_lexer": "ipython3",
   "version": "3.11.5"
  }
 },
 "nbformat": 4,
 "nbformat_minor": 2
}
