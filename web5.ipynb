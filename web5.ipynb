{
 "cells": [
  {
   "cell_type": "code",
   "execution_count": 15,
   "metadata": {},
   "outputs": [],
   "source": [
    "from selenium import webdriver\n",
    "from bs4 import BeautifulSoup"
   ]
  },
  {
   "cell_type": "code",
   "execution_count": 16,
   "metadata": {},
   "outputs": [],
   "source": [
    "link='https://photos-stock.netlify.app/'"
   ]
  },
  {
   "cell_type": "code",
   "execution_count": 17,
   "metadata": {},
   "outputs": [],
   "source": [
    "driver=webdriver.Chrome()"
   ]
  },
  {
   "cell_type": "code",
   "execution_count": 18,
   "metadata": {},
   "outputs": [],
   "source": [
    "driver.get(link)"
   ]
  },
  {
   "cell_type": "code",
   "execution_count": 46,
   "metadata": {},
   "outputs": [],
   "source": [
    "soup=BeautifulSoup(driver.page_source,'html.parser')"
   ]
  },
  {
   "cell_type": "code",
   "execution_count": 8,
   "metadata": {},
   "outputs": [
    {
     "data": {
      "text/plain": [
       "[<img alt=\"a person standing on top of a mountain at sunset\" src=\"https://images.unsplash.com/photo-1683009427513-28e163402d16?crop=entropy&amp;cs=tinysrgb&amp;fit=max&amp;fm=jpg&amp;ixid=M3wyMjI4NjZ8MXwxfGFsbHwxfHx8fHx8Mnx8MTcxMDU5ODk0N3w&amp;ixlib=rb-4.0.3&amp;q=80&amp;w=1080\"/>,\n",
       " <img alt=\"NEOM\" class=\"user-img\" src=\"https://images.unsplash.com/profile-1679489218992-ebe823c797dfimage?ixlib=rb-4.0.3&amp;crop=faces&amp;fit=crop&amp;w=64&amp;h=64\"/>,\n",
       " <img alt=\"a very colorful picture of a bunch of lines\" src=\"https://images.unsplash.com/photo-1706670542491-61eeb26510de?crop=entropy&amp;cs=tinysrgb&amp;fit=max&amp;fm=jpg&amp;ixid=M3wyMjI4NjZ8MHwxfGFsbHwyfHx8fHx8Mnx8MTcxMDU5ODk0N3w&amp;ixlib=rb-4.0.3&amp;q=80&amp;w=1080\"/>,\n",
       " <img alt=\"Eugene Golovesov\" class=\"user-img\" src=\"https://images.unsplash.com/profile-1704991443592-a7f79d25ffb1image?ixlib=rb-4.0.3&amp;crop=faces&amp;fit=crop&amp;w=64&amp;h=64\"/>,\n",
       " <img alt=\"a man standing next to a table filled with bananas\" src=\"https://images.unsplash.com/photo-1710488140458-e1757928a9f8?crop=entropy&amp;cs=tinysrgb&amp;fit=max&amp;fm=jpg&amp;ixid=M3wyMjI4NjZ8MHwxfGFsbHwzfHx8fHx8Mnx8MTcxMDU5ODk0N3w&amp;ixlib=rb-4.0.3&amp;q=80&amp;w=1080\"/>,\n",
       " <img alt=\"Polina Kuzovkova\" class=\"user-img\" src=\"https://images.unsplash.com/profile-1696956647313-5d1b1acecda8image?ixlib=rb-4.0.3&amp;crop=faces&amp;fit=crop&amp;w=64&amp;h=64\"/>,\n",
       " <img alt=\"a field full of red flowers with trees in the background\" src=\"https://images.unsplash.com/photo-1706026803368-d84389566a80?crop=entropy&amp;cs=tinysrgb&amp;fit=max&amp;fm=jpg&amp;ixid=M3wyMjI4NjZ8MHwxfGFsbHw0fHx8fHx8Mnx8MTcxMDU5ODk0N3w&amp;ixlib=rb-4.0.3&amp;q=80&amp;w=1080\"/>,\n",
       " <img alt=\"Yana Gorbunova\" class=\"user-img\" src=\"https://images.unsplash.com/profile-1607438865229-0f2826835e09image?ixlib=rb-4.0.3&amp;crop=faces&amp;fit=crop&amp;w=64&amp;h=64\"/>,\n",
       " <img alt=\"a lush green forest filled with lots of trees\" src=\"https://images.unsplash.com/photo-1710573274483-38f75804e74f?crop=entropy&amp;cs=tinysrgb&amp;fit=max&amp;fm=jpg&amp;ixid=M3wyMjI4NjZ8MHwxfGFsbHw1fHx8fHx8Mnx8MTcxMDU5ODk0N3w&amp;ixlib=rb-4.0.3&amp;q=80&amp;w=1080\"/>,\n",
       " <img alt=\"Євгенія Височина\" class=\"user-img\" src=\"https://images.unsplash.com/profile-1710408493496-90f1106d596cimage?ixlib=rb-4.0.3&amp;crop=faces&amp;fit=crop&amp;w=64&amp;h=64\"/>,\n",
       " <img alt=\"a sea turtle swimming over a coral reef\" src=\"https://images.unsplash.com/photo-1707343848873-d6a834b5f9b9?crop=entropy&amp;cs=tinysrgb&amp;fit=max&amp;fm=jpg&amp;ixid=M3wyMjI4NjZ8MXwxfGFsbHw2fHx8fHx8Mnx8MTcxMDU5ODk0N3w&amp;ixlib=rb-4.0.3&amp;q=80&amp;w=1080\"/>,\n",
       " <img alt=\"NEOM\" class=\"user-img\" src=\"https://images.unsplash.com/profile-1679489218992-ebe823c797dfimage?ixlib=rb-4.0.3&amp;crop=faces&amp;fit=crop&amp;w=64&amp;h=64\"/>,\n",
       " <img alt=\"a group of different colored corals on a white background\" src=\"https://images.unsplash.com/photo-1710537433038-a4da7b9e0a64?crop=entropy&amp;cs=tinysrgb&amp;fit=max&amp;fm=jpg&amp;ixid=M3wyMjI4NjZ8MHwxfGFsbHw3fHx8fHx8Mnx8MTcxMDU5ODk0N3w&amp;ixlib=rb-4.0.3&amp;q=80&amp;w=1080\"/>,\n",
       " <img alt=\"Susan Wilkinson\" class=\"user-img\" src=\"https://images.unsplash.com/profile-1708290810362-04d66b50c037image?ixlib=rb-4.0.3&amp;crop=faces&amp;fit=crop&amp;w=64&amp;h=64\"/>,\n",
       " <img alt=\"a person making a peace sign in a field\" src=\"https://images.unsplash.com/photo-1710543574195-143970a68e1f?crop=entropy&amp;cs=tinysrgb&amp;fit=max&amp;fm=jpg&amp;ixid=M3wyMjI4NjZ8MHwxfGFsbHw4fHx8fHx8Mnx8MTcxMDU5ODk0N3w&amp;ixlib=rb-4.0.3&amp;q=80&amp;w=1080\"/>,\n",
       " <img alt=\"Ashford Marx\" class=\"user-img\" src=\"https://images.unsplash.com/profile-1645743150302-12f673157b0e?ixlib=rb-4.0.3&amp;crop=faces&amp;fit=crop&amp;w=64&amp;h=64\"/>,\n",
       " <img alt=\"a white building with a red door sitting on top of a beach\" src=\"https://images.unsplash.com/photo-1710376624049-8e439bd1d108?crop=entropy&amp;cs=tinysrgb&amp;fit=max&amp;fm=jpg&amp;ixid=M3wyMjI4NjZ8MHwxfGFsbHw5fHx8fHx8Mnx8MTcxMDU5ODk0N3w&amp;ixlib=rb-4.0.3&amp;q=80&amp;w=1080\"/>,\n",
       " <img alt=\"Uran Wang\" class=\"user-img\" src=\"https://images.unsplash.com/profile-1706185252231-a150070d3c4b?ixlib=rb-4.0.3&amp;crop=faces&amp;fit=crop&amp;w=64&amp;h=64\"/>,\n",
       " <img alt=\"a tall building with a sky background\" src=\"https://images.unsplash.com/photo-1705667042283-753349b4e0d0?crop=entropy&amp;cs=tinysrgb&amp;fit=max&amp;fm=jpg&amp;ixid=M3wyMjI4NjZ8MHwxfGFsbHwxMHx8fHx8fDJ8fDE3MTA1OTg5NDd8&amp;ixlib=rb-4.0.3&amp;q=80&amp;w=1080\"/>,\n",
       " <img alt=\"Uran Wang\" class=\"user-img\" src=\"https://images.unsplash.com/profile-1706185252231-a150070d3c4b?ixlib=rb-4.0.3&amp;crop=faces&amp;fit=crop&amp;w=64&amp;h=64\"/>]"
      ]
     },
     "execution_count": 8,
     "metadata": {},
     "output_type": "execute_result"
    }
   ],
   "source": [
    "soup.find_all('img')"
   ]
  },
  {
   "cell_type": "code",
   "execution_count": 29,
   "metadata": {},
   "outputs": [
    {
     "data": {
      "text/plain": [
       "'https://images.unsplash.com/photo-1682686580452-37f1892ee5e8?crop=entropy&cs=tinysrgb&fit=max&fm=jpg&ixid=M3wyMjI4NjZ8MXwxfGFsbHwxfHx8fHx8Mnx8MTcxMDU5OTUxNXw&ixlib=rb-4.0.3&q=80&w=1080'"
      ]
     },
     "execution_count": 29,
     "metadata": {},
     "output_type": "execute_result"
    }
   ],
   "source": [
    "soup.find_all('img')[0].get('src')"
   ]
  },
  {
   "cell_type": "code",
   "execution_count": 78,
   "metadata": {},
   "outputs": [
    {
     "name": "stdout",
     "output_type": "stream",
     "text": [
      "https://images.unsplash.com/photo-1682686580452-37f1892ee5e8?crop=entropy&cs=tinysrgb&fit=max&fm=jpg&ixid=M3wyMjI4NjZ8MXwxfGFsbHwxfHx8fHx8Mnx8MTcxMDU5OTUxNXw&ixlib=rb-4.0.3&q=80&w=1080\n",
      "https://images.unsplash.com/photo-1706670542491-61eeb26510de?crop=entropy&cs=tinysrgb&fit=max&fm=jpg&ixid=M3wyMjI4NjZ8MHwxfGFsbHwyfHx8fHx8Mnx8MTcxMDU5OTUxNXw&ixlib=rb-4.0.3&q=80&w=1080\n",
      "https://images.unsplash.com/photo-1710488140458-e1757928a9f8?crop=entropy&cs=tinysrgb&fit=max&fm=jpg&ixid=M3wyMjI4NjZ8MHwxfGFsbHwzfHx8fHx8Mnx8MTcxMDU5OTUxNXw&ixlib=rb-4.0.3&q=80&w=1080\n",
      "https://images.unsplash.com/photo-1706026803368-d84389566a80?crop=entropy&cs=tinysrgb&fit=max&fm=jpg&ixid=M3wyMjI4NjZ8MHwxfGFsbHw0fHx8fHx8Mnx8MTcxMDU5OTUxNXw&ixlib=rb-4.0.3&q=80&w=1080\n",
      "https://images.unsplash.com/photo-1710573274483-38f75804e74f?crop=entropy&cs=tinysrgb&fit=max&fm=jpg&ixid=M3wyMjI4NjZ8MHwxfGFsbHw1fHx8fHx8Mnx8MTcxMDU5OTUxNXw&ixlib=rb-4.0.3&q=80&w=1080\n",
      "https://images.unsplash.com/photo-1707343846292-0c11438d145f?crop=entropy&cs=tinysrgb&fit=max&fm=jpg&ixid=M3wyMjI4NjZ8MXwxfGFsbHw2fHx8fHx8Mnx8MTcxMDU5OTUxNXw&ixlib=rb-4.0.3&q=80&w=1080\n",
      "https://images.unsplash.com/photo-1710537433038-a4da7b9e0a64?crop=entropy&cs=tinysrgb&fit=max&fm=jpg&ixid=M3wyMjI4NjZ8MHwxfGFsbHw3fHx8fHx8Mnx8MTcxMDU5OTUxNXw&ixlib=rb-4.0.3&q=80&w=1080\n",
      "https://images.unsplash.com/photo-1710543574195-143970a68e1f?crop=entropy&cs=tinysrgb&fit=max&fm=jpg&ixid=M3wyMjI4NjZ8MHwxfGFsbHw4fHx8fHx8Mnx8MTcxMDU5OTUxNXw&ixlib=rb-4.0.3&q=80&w=1080\n",
      "https://images.unsplash.com/photo-1710376624049-8e439bd1d108?crop=entropy&cs=tinysrgb&fit=max&fm=jpg&ixid=M3wyMjI4NjZ8MHwxfGFsbHw5fHx8fHx8Mnx8MTcxMDU5OTUxNXw&ixlib=rb-4.0.3&q=80&w=1080\n",
      "https://images.unsplash.com/photo-1705667042283-753349b4e0d0?crop=entropy&cs=tinysrgb&fit=max&fm=jpg&ixid=M3wyMjI4NjZ8MHwxfGFsbHwxMHx8fHx8fDJ8fDE3MTA1OTk1MTV8&ixlib=rb-4.0.3&q=80&w=1080\n",
      "https://images.unsplash.com/photo-1683009426952-13567b4fa28b?crop=entropy&cs=tinysrgb&fit=max&fm=jpg&ixid=M3wyMjI4NjZ8MXwxfGFsbHwxMXx8fHx8fDJ8fDE3MTA2MDEzMDZ8&ixlib=rb-4.0.3&q=80&w=1080\n",
      "https://images.unsplash.com/photo-1705774018984-af74ccbd6a21?crop=entropy&cs=tinysrgb&fit=max&fm=jpg&ixid=M3wyMjI4NjZ8MHwxfGFsbHwxMnx8fHx8fDJ8fDE3MTA2MDEzMDZ8&ixlib=rb-4.0.3&q=80&w=1080\n",
      "https://images.unsplash.com/photo-1710172510079-9a1703c3fd05?crop=entropy&cs=tinysrgb&fit=max&fm=jpg&ixid=M3wyMjI4NjZ8MHwxfGFsbHwxM3x8fHx8fDJ8fDE3MTA2MDEzMDZ8&ixlib=rb-4.0.3&q=80&w=1080\n",
      "https://images.unsplash.com/photo-1710270822125-6614bd66311f?crop=entropy&cs=tinysrgb&fit=max&fm=jpg&ixid=M3wyMjI4NjZ8MHwxfGFsbHwxNHx8fHx8fDJ8fDE3MTA2MDEzMDZ8&ixlib=rb-4.0.3&q=80&w=1080\n",
      "https://images.unsplash.com/photo-1710520353183-52bf7769a82a?crop=entropy&cs=tinysrgb&fit=max&fm=jpg&ixid=M3wyMjI4NjZ8MHwxfGFsbHwxNXx8fHx8fDJ8fDE3MTA2MDEzMDZ8&ixlib=rb-4.0.3&q=80&w=1080\n",
      "https://images.unsplash.com/photo-1707343848552-893e05dba6ac?crop=entropy&cs=tinysrgb&fit=max&fm=jpg&ixid=M3wyMjI4NjZ8MXwxfGFsbHwxNnx8fHx8fDJ8fDE3MTA2MDEzMDZ8&ixlib=rb-4.0.3&q=80&w=1080\n",
      "https://images.unsplash.com/photo-1681375989516-a46089a320fe?crop=entropy&cs=tinysrgb&fit=max&fm=jpg&ixid=M3wyMjI4NjZ8MHwxfGFsbHwxN3x8fHx8fDJ8fDE3MTA2MDEzMDZ8&ixlib=rb-4.0.3&q=80&w=1080\n",
      "https://images.unsplash.com/photo-1634848577969-bc28ee71ffc1?crop=entropy&cs=tinysrgb&fit=max&fm=jpg&ixid=M3wyMjI4NjZ8MHwxfGFsbHwxOHx8fHx8fDJ8fDE3MTA2MDEzMDZ8&ixlib=rb-4.0.3&q=80&w=1080\n",
      "https://images.unsplash.com/photo-1707229219459-03dd69961ab0?crop=entropy&cs=tinysrgb&fit=max&fm=jpg&ixid=M3wyMjI4NjZ8MHwxfGFsbHwxOXx8fHx8fDJ8fDE3MTA2MDEzMDZ8&ixlib=rb-4.0.3&q=80&w=1080\n",
      "https://images.unsplash.com/photo-1708058885067-ed3b3c2cab9c?crop=entropy&cs=tinysrgb&fit=max&fm=jpg&ixid=M3wyMjI4NjZ8MHwxfGFsbHwyMHx8fHx8fDJ8fDE3MTA2MDEzMDZ8&ixlib=rb-4.0.3&q=80&w=1080\n",
      "https://images.unsplash.com/photo-1682687980961-78fa83781450?crop=entropy&cs=tinysrgb&fit=max&fm=jpg&ixid=M3wyMjI4NjZ8MXwxfGFsbHwyMXx8fHx8fDJ8fDE3MTA2MDEzMDZ8&ixlib=rb-4.0.3&q=80&w=1080\n",
      "https://images.unsplash.com/photo-1708381597911-244afaf73f6b?crop=entropy&cs=tinysrgb&fit=max&fm=jpg&ixid=M3wyMjI4NjZ8MHwxfGFsbHwyMnx8fHx8fDJ8fDE3MTA2MDEzMDZ8&ixlib=rb-4.0.3&q=80&w=1080\n",
      "https://images.unsplash.com/photo-1708246117043-ffe28a9935b3?crop=entropy&cs=tinysrgb&fit=max&fm=jpg&ixid=M3wyMjI4NjZ8MHwxfGFsbHwyM3x8fHx8fDJ8fDE3MTA2MDEzMDZ8&ixlib=rb-4.0.3&q=80&w=1080\n",
      "https://images.unsplash.com/photo-1707083724799-cc76620ee809?crop=entropy&cs=tinysrgb&fit=max&fm=jpg&ixid=M3wyMjI4NjZ8MHwxfGFsbHwyNHx8fHx8fDJ8fDE3MTA2MDEzMDZ8&ixlib=rb-4.0.3&q=80&w=1080\n",
      "https://images.unsplash.com/photo-1707160038533-17251ac05234?crop=entropy&cs=tinysrgb&fit=max&fm=jpg&ixid=M3wyMjI4NjZ8MHwxfGFsbHwyNXx8fHx8fDJ8fDE3MTA2MDEzMDZ8&ixlib=rb-4.0.3&q=80&w=1080\n",
      "https://images.unsplash.com/photo-1707344088547-3cf7cea5ca49?crop=entropy&cs=tinysrgb&fit=max&fm=jpg&ixid=M3wyMjI4NjZ8MXwxfGFsbHwyNnx8fHx8fDJ8fDE3MTA2MDEzMDZ8&ixlib=rb-4.0.3&q=80&w=1080\n",
      "https://images.unsplash.com/photo-1709342548703-a675702f19ef?crop=entropy&cs=tinysrgb&fit=max&fm=jpg&ixid=M3wyMjI4NjZ8MHwxfGFsbHwyN3x8fHx8fDJ8fDE3MTA2MDEzMDZ8&ixlib=rb-4.0.3&q=80&w=1080\n",
      "https://images.unsplash.com/photo-1710269388994-c31912df1d6f?crop=entropy&cs=tinysrgb&fit=max&fm=jpg&ixid=M3wyMjI4NjZ8MHwxfGFsbHwyOHx8fHx8fDJ8fDE3MTA2MDEzMDZ8&ixlib=rb-4.0.3&q=80&w=1080\n",
      "https://images.unsplash.com/photo-1710418467761-cb8efcf525db?crop=entropy&cs=tinysrgb&fit=max&fm=jpg&ixid=M3wyMjI4NjZ8MHwxfGFsbHwyOXx8fHx8fDJ8fDE3MTA2MDEzMDZ8&ixlib=rb-4.0.3&q=80&w=1080\n",
      "https://images.unsplash.com/photo-1710490149825-9b3e978de5c4?crop=entropy&cs=tinysrgb&fit=max&fm=jpg&ixid=M3wyMjI4NjZ8MHwxfGFsbHwzMHx8fHx8fDJ8fDE3MTA2MDEzMDZ8&ixlib=rb-4.0.3&q=80&w=1080\n",
      "https://images.unsplash.com/photo-1682695795557-17447f921f79?crop=entropy&cs=tinysrgb&fit=max&fm=jpg&ixid=M3wyMjI4NjZ8MXwxfGFsbHwxfHx8fHx8Mnx8MTcxMDYwMTMwNnw&ixlib=rb-4.0.3&q=80&w=1080\n",
      "https://images.unsplash.com/photo-1706670542491-61eeb26510de?crop=entropy&cs=tinysrgb&fit=max&fm=jpg&ixid=M3wyMjI4NjZ8MHwxfGFsbHwyfHx8fHx8Mnx8MTcxMDYwMTMwNnw&ixlib=rb-4.0.3&q=80&w=1080\n",
      "https://images.unsplash.com/photo-1710488140458-e1757928a9f8?crop=entropy&cs=tinysrgb&fit=max&fm=jpg&ixid=M3wyMjI4NjZ8MHwxfGFsbHwzfHx8fHx8Mnx8MTcxMDYwMTMwNnw&ixlib=rb-4.0.3&q=80&w=1080\n",
      "https://images.unsplash.com/photo-1706026803368-d84389566a80?crop=entropy&cs=tinysrgb&fit=max&fm=jpg&ixid=M3wyMjI4NjZ8MHwxfGFsbHw0fHx8fHx8Mnx8MTcxMDYwMTMwNnw&ixlib=rb-4.0.3&q=80&w=1080\n",
      "https://images.unsplash.com/photo-1710573274483-38f75804e74f?crop=entropy&cs=tinysrgb&fit=max&fm=jpg&ixid=M3wyMjI4NjZ8MHwxfGFsbHw1fHx8fHx8Mnx8MTcxMDYwMTMwNnw&ixlib=rb-4.0.3&q=80&w=1080\n",
      "https://images.unsplash.com/photo-1707343843982-f8275f3994c5?crop=entropy&cs=tinysrgb&fit=max&fm=jpg&ixid=M3wyMjI4NjZ8MXwxfGFsbHw2fHx8fHx8Mnx8MTcxMDYwMTMwNnw&ixlib=rb-4.0.3&q=80&w=1080\n",
      "https://images.unsplash.com/photo-1710537433038-a4da7b9e0a64?crop=entropy&cs=tinysrgb&fit=max&fm=jpg&ixid=M3wyMjI4NjZ8MHwxfGFsbHw3fHx8fHx8Mnx8MTcxMDYwMTMwNnw&ixlib=rb-4.0.3&q=80&w=1080\n",
      "https://images.unsplash.com/photo-1710543574195-143970a68e1f?crop=entropy&cs=tinysrgb&fit=max&fm=jpg&ixid=M3wyMjI4NjZ8MHwxfGFsbHw4fHx8fHx8Mnx8MTcxMDYwMTMwNnw&ixlib=rb-4.0.3&q=80&w=1080\n",
      "https://images.unsplash.com/photo-1710376624049-8e439bd1d108?crop=entropy&cs=tinysrgb&fit=max&fm=jpg&ixid=M3wyMjI4NjZ8MHwxfGFsbHw5fHx8fHx8Mnx8MTcxMDYwMTMwNnw&ixlib=rb-4.0.3&q=80&w=1080\n",
      "https://images.unsplash.com/photo-1705667042283-753349b4e0d0?crop=entropy&cs=tinysrgb&fit=max&fm=jpg&ixid=M3wyMjI4NjZ8MHwxfGFsbHwxMHx8fHx8fDJ8fDE3MTA2MDEzMDZ8&ixlib=rb-4.0.3&q=80&w=1080\n",
      "https://images.unsplash.com/photo-1682685797660-3d847763208e?crop=entropy&cs=tinysrgb&fit=max&fm=jpg&ixid=M3wyMjI4NjZ8MXwxfGFsbHwzMXx8fHx8fDJ8fDE3MTA2MDEzMDh8&ixlib=rb-4.0.3&q=80&w=1080\n",
      "https://images.unsplash.com/photo-1706820643404-71812d9d7d3a?crop=entropy&cs=tinysrgb&fit=max&fm=jpg&ixid=M3wyMjI4NjZ8MHwxfGFsbHwzMnx8fHx8fDJ8fDE3MTA2MDEzMDh8&ixlib=rb-4.0.3&q=80&w=1080\n",
      "https://images.unsplash.com/photo-1707494750832-48a457145d12?crop=entropy&cs=tinysrgb&fit=max&fm=jpg&ixid=M3wyMjI4NjZ8MHwxfGFsbHwzM3x8fHx8fDJ8fDE3MTA2MDEzMDh8&ixlib=rb-4.0.3&q=80&w=1080\n",
      "https://images.unsplash.com/photo-1710302027281-a1bfbaa94f92?crop=entropy&cs=tinysrgb&fit=max&fm=jpg&ixid=M3wyMjI4NjZ8MHwxfGFsbHwzNHx8fHx8fDJ8fDE3MTA2MDEzMDh8&ixlib=rb-4.0.3&q=80&w=1080\n",
      "https://images.unsplash.com/photo-1707879487566-ff0852cadd92?crop=entropy&cs=tinysrgb&fit=max&fm=jpg&ixid=M3wyMjI4NjZ8MHwxfGFsbHwzNXx8fHx8fDJ8fDE3MTA2MDEzMDh8&ixlib=rb-4.0.3&q=80&w=1080\n",
      "https://images.unsplash.com/photo-1707327259268-2741b50ef5e5?crop=entropy&cs=tinysrgb&fit=max&fm=jpg&ixid=M3wyMjI4NjZ8MXwxfGFsbHwzNnx8fHx8fDJ8fDE3MTA2MDEzMDh8&ixlib=rb-4.0.3&q=80&w=1080\n",
      "https://images.unsplash.com/photo-1710156958953-329d3531c745?crop=entropy&cs=tinysrgb&fit=max&fm=jpg&ixid=M3wyMjI4NjZ8MHwxfGFsbHwzN3x8fHx8fDJ8fDE3MTA2MDEzMDh8&ixlib=rb-4.0.3&q=80&w=1080\n",
      "https://images.unsplash.com/photo-1709983967481-d738b90bd395?crop=entropy&cs=tinysrgb&fit=max&fm=jpg&ixid=M3wyMjI4NjZ8MHwxfGFsbHwzOHx8fHx8fDJ8fDE3MTA2MDEzMDh8&ixlib=rb-4.0.3&q=80&w=1080\n",
      "https://images.unsplash.com/photo-1710169589950-ee8c3be7cbef?crop=entropy&cs=tinysrgb&fit=max&fm=jpg&ixid=M3wyMjI4NjZ8MHwxfGFsbHwzOXx8fHx8fDJ8fDE3MTA2MDEzMDh8&ixlib=rb-4.0.3&q=80&w=1080\n",
      "https://images.unsplash.com/photo-1710447177159-c4ae694ba09b?crop=entropy&cs=tinysrgb&fit=max&fm=jpg&ixid=M3wyMjI4NjZ8MHwxfGFsbHw0MHx8fHx8fDJ8fDE3MTA2MDEzMDh8&ixlib=rb-4.0.3&q=80&w=1080\n",
      "https://images.unsplash.com/photo-1682686581413-0a0ec9bb35bb?crop=entropy&cs=tinysrgb&fit=max&fm=jpg&ixid=M3wyMjI4NjZ8MXwxfGFsbHw0MXx8fHx8fDJ8fDE3MTA2MDEzMDh8&ixlib=rb-4.0.3&q=80&w=1080\n",
      "https://images.unsplash.com/photo-1710445350875-00fec354614f?crop=entropy&cs=tinysrgb&fit=max&fm=jpg&ixid=M3wyMjI4NjZ8MHwxfGFsbHw0Mnx8fHx8fDJ8fDE3MTA2MDEzMDh8&ixlib=rb-4.0.3&q=80&w=1080\n",
      "https://images.unsplash.com/photo-1710421871838-029427bed6b4?crop=entropy&cs=tinysrgb&fit=max&fm=jpg&ixid=M3wyMjI4NjZ8MHwxfGFsbHw0M3x8fHx8fDJ8fDE3MTA2MDEzMDh8&ixlib=rb-4.0.3&q=80&w=1080\n",
      "https://images.unsplash.com/photo-1710481293133-05ada0ae12ec?crop=entropy&cs=tinysrgb&fit=max&fm=jpg&ixid=M3wyMjI4NjZ8MHwxfGFsbHw0NHx8fHx8fDJ8fDE3MTA2MDEzMDh8&ixlib=rb-4.0.3&q=80&w=1080\n",
      "https://images.unsplash.com/photo-1710335169909-e1af415cd893?crop=entropy&cs=tinysrgb&fit=max&fm=jpg&ixid=M3wyMjI4NjZ8MHwxfGFsbHw0NXx8fHx8fDJ8fDE3MTA2MDEzMDh8&ixlib=rb-4.0.3&q=80&w=1080\n",
      "https://images.unsplash.com/photo-1707343848655-a196bfe88861?crop=entropy&cs=tinysrgb&fit=max&fm=jpg&ixid=M3wyMjI4NjZ8MXwxfGFsbHw0Nnx8fHx8fDJ8fDE3MTA2MDEzMDh8&ixlib=rb-4.0.3&q=80&w=1080\n",
      "https://images.unsplash.com/photo-1710261411758-db1523b6143f?crop=entropy&cs=tinysrgb&fit=max&fm=jpg&ixid=M3wyMjI4NjZ8MHwxfGFsbHw0N3x8fHx8fDJ8fDE3MTA2MDEzMDh8&ixlib=rb-4.0.3&q=80&w=1080\n",
      "https://images.unsplash.com/photo-1710352254343-ada197035dd4?crop=entropy&cs=tinysrgb&fit=max&fm=jpg&ixid=M3wyMjI4NjZ8MHwxfGFsbHw0OHx8fHx8fDJ8fDE3MTA2MDEzMDh8&ixlib=rb-4.0.3&q=80&w=1080\n",
      "https://images.unsplash.com/photo-1710438399440-83452997ffd8?crop=entropy&cs=tinysrgb&fit=max&fm=jpg&ixid=M3wyMjI4NjZ8MHwxfGFsbHw0OXx8fHx8fDJ8fDE3MTA2MDEzMDh8&ixlib=rb-4.0.3&q=80&w=1080\n",
      "https://images.unsplash.com/photo-1710406941299-d61bdb76b109?crop=entropy&cs=tinysrgb&fit=max&fm=jpg&ixid=M3wyMjI4NjZ8MHwxfGFsbHw1MHx8fHx8fDJ8fDE3MTA2MDEzMDh8&ixlib=rb-4.0.3&q=80&w=1080\n",
      "https://images.unsplash.com/photo-1683009427660-b38dea9e8488?crop=entropy&cs=tinysrgb&fit=max&fm=jpg&ixid=M3wyMjI4NjZ8MXwxfGFsbHw2MXx8fHx8fDJ8fDE3MTA2MDEzMDh8&ixlib=rb-4.0.3&q=80&w=1080\n",
      "https://images.unsplash.com/photo-1710267224190-39b059315983?crop=entropy&cs=tinysrgb&fit=max&fm=jpg&ixid=M3wyMjI4NjZ8MHwxfGFsbHw2Mnx8fHx8fDJ8fDE3MTA2MDEzMDh8&ixlib=rb-4.0.3&q=80&w=1080\n",
      "https://images.unsplash.com/photo-1710432157411-dcaa1c5b9494?crop=entropy&cs=tinysrgb&fit=max&fm=jpg&ixid=M3wyMjI4NjZ8MHwxfGFsbHw2M3x8fHx8fDJ8fDE3MTA2MDEzMDh8&ixlib=rb-4.0.3&q=80&w=1080\n",
      "https://images.unsplash.com/photo-1710089765274-1437a79a7524?crop=entropy&cs=tinysrgb&fit=max&fm=jpg&ixid=M3wyMjI4NjZ8MHwxfGFsbHw2NHx8fHx8fDJ8fDE3MTA2MDEzMDh8&ixlib=rb-4.0.3&q=80&w=1080\n",
      "https://images.unsplash.com/photo-1710336723033-bfae8216b139?crop=entropy&cs=tinysrgb&fit=max&fm=jpg&ixid=M3wyMjI4NjZ8MHwxfGFsbHw2NXx8fHx8fDJ8fDE3MTA2MDEzMDh8&ixlib=rb-4.0.3&q=80&w=1080\n",
      "https://images.unsplash.com/photo-1707343843598-39755549ac9a?crop=entropy&cs=tinysrgb&fit=max&fm=jpg&ixid=M3wyMjI4NjZ8MXwxfGFsbHw2Nnx8fHx8fDJ8fDE3MTA2MDEzMDh8&ixlib=rb-4.0.3&q=80&w=1080\n",
      "https://images.unsplash.com/photo-1710475512344-853809054d97?crop=entropy&cs=tinysrgb&fit=max&fm=jpg&ixid=M3wyMjI4NjZ8MHwxfGFsbHw2N3x8fHx8fDJ8fDE3MTA2MDEzMDh8&ixlib=rb-4.0.3&q=80&w=1080\n",
      "https://images.unsplash.com/photo-1710296363325-ae47dc7817d6?crop=entropy&cs=tinysrgb&fit=max&fm=jpg&ixid=M3wyMjI4NjZ8MHwxfGFsbHw2OHx8fHx8fDJ8fDE3MTA2MDEzMDh8&ixlib=rb-4.0.3&q=80&w=1080\n",
      "https://images.unsplash.com/photo-1710225342718-11c18a806f59?crop=entropy&cs=tinysrgb&fit=max&fm=jpg&ixid=M3wyMjI4NjZ8MHwxfGFsbHw2OXx8fHx8fDJ8fDE3MTA2MDEzMDh8&ixlib=rb-4.0.3&q=80&w=1080\n",
      "https://images.unsplash.com/photo-1710432157519-e437027d2e8f?crop=entropy&cs=tinysrgb&fit=max&fm=jpg&ixid=M3wyMjI4NjZ8MHwxfGFsbHw3MHx8fHx8fDJ8fDE3MTA2MDEzMDh8&ixlib=rb-4.0.3&q=80&w=1080\n",
      "https://images.unsplash.com/photo-1682686578842-00ba49b0a71a?crop=entropy&cs=tinysrgb&fit=max&fm=jpg&ixid=M3wyMjI4NjZ8MXwxfGFsbHw1MXx8fHx8fDJ8fDE3MTA2MDEzMDh8&ixlib=rb-4.0.3&q=80&w=1080\n",
      "https://images.unsplash.com/photo-1710461638555-27795861894f?crop=entropy&cs=tinysrgb&fit=max&fm=jpg&ixid=M3wyMjI4NjZ8MHwxfGFsbHw1Mnx8fHx8fDJ8fDE3MTA2MDEzMDh8&ixlib=rb-4.0.3&q=80&w=1080\n",
      "https://images.unsplash.com/photo-1710438641275-1b1512304344?crop=entropy&cs=tinysrgb&fit=max&fm=jpg&ixid=M3wyMjI4NjZ8MHwxfGFsbHw1M3x8fHx8fDJ8fDE3MTA2MDEzMDh8&ixlib=rb-4.0.3&q=80&w=1080\n",
      "https://images.unsplash.com/photo-1710259368437-70dce7471215?crop=entropy&cs=tinysrgb&fit=max&fm=jpg&ixid=M3wyMjI4NjZ8MHwxfGFsbHw1NHx8fHx8fDJ8fDE3MTA2MDEzMDh8&ixlib=rb-4.0.3&q=80&w=1080\n",
      "https://images.unsplash.com/photo-1710269388985-3cca94411981?crop=entropy&cs=tinysrgb&fit=max&fm=jpg&ixid=M3wyMjI4NjZ8MHwxfGFsbHw1NXx8fHx8fDJ8fDE3MTA2MDEzMDh8&ixlib=rb-4.0.3&q=80&w=1080\n",
      "https://images.unsplash.com/photo-1707343843344-011332037abb?crop=entropy&cs=tinysrgb&fit=max&fm=jpg&ixid=M3wyMjI4NjZ8MXwxfGFsbHw1Nnx8fHx8fDJ8fDE3MTA2MDEzMDh8&ixlib=rb-4.0.3&q=80&w=1080\n",
      "https://images.unsplash.com/photo-1709136494561-d98ea74c9431?crop=entropy&cs=tinysrgb&fit=max&fm=jpg&ixid=M3wyMjI4NjZ8MHwxfGFsbHw1N3x8fHx8fDJ8fDE3MTA2MDEzMDh8&ixlib=rb-4.0.3&q=80&w=1080\n",
      "https://images.unsplash.com/photo-1710302112350-e14ceae0c385?crop=entropy&cs=tinysrgb&fit=max&fm=jpg&ixid=M3wyMjI4NjZ8MHwxfGFsbHw1OHx8fHx8fDJ8fDE3MTA2MDEzMDh8&ixlib=rb-4.0.3&q=80&w=1080\n",
      "https://images.unsplash.com/photo-1710372165237-2a2ada353c15?crop=entropy&cs=tinysrgb&fit=max&fm=jpg&ixid=M3wyMjI4NjZ8MHwxfGFsbHw1OXx8fHx8fDJ8fDE3MTA2MDEzMDh8&ixlib=rb-4.0.3&q=80&w=1080\n",
      "https://images.unsplash.com/photo-1710427273049-f72bb821a589?crop=entropy&cs=tinysrgb&fit=max&fm=jpg&ixid=M3wyMjI4NjZ8MHwxfGFsbHw2MHx8fHx8fDJ8fDE3MTA2MDEzMDh8&ixlib=rb-4.0.3&q=80&w=1080\n",
      "https://images.unsplash.com/photo-1682686581498-5e85c7228119?crop=entropy&cs=tinysrgb&fit=max&fm=jpg&ixid=M3wyMjI4NjZ8MXwxfGFsbHw3MXx8fHx8fDJ8fDE3MTA2MDEzMTB8&ixlib=rb-4.0.3&q=80&w=1080\n",
      "https://images.unsplash.com/photo-1710415273421-4d19cc02b839?crop=entropy&cs=tinysrgb&fit=max&fm=jpg&ixid=M3wyMjI4NjZ8MHwxfGFsbHw3Mnx8fHx8fDJ8fDE3MTA2MDEzMTB8&ixlib=rb-4.0.3&q=80&w=1080\n",
      "https://images.unsplash.com/photo-1710259575206-64db38722f53?crop=entropy&cs=tinysrgb&fit=max&fm=jpg&ixid=M3wyMjI4NjZ8MHwxfGFsbHw3M3x8fHx8fDJ8fDE3MTA2MDEzMTB8&ixlib=rb-4.0.3&q=80&w=1080\n",
      "https://images.unsplash.com/photo-1710228010417-a8d07002b83c?crop=entropy&cs=tinysrgb&fit=max&fm=jpg&ixid=M3wyMjI4NjZ8MHwxfGFsbHw3NHx8fHx8fDJ8fDE3MTA2MDEzMTB8&ixlib=rb-4.0.3&q=80&w=1080\n",
      "https://images.unsplash.com/photo-1710267224267-6e17761926f0?crop=entropy&cs=tinysrgb&fit=max&fm=jpg&ixid=M3wyMjI4NjZ8MHwxfGFsbHw3NXx8fHx8fDJ8fDE3MTA2MDEzMTB8&ixlib=rb-4.0.3&q=80&w=1080\n",
      "https://images.unsplash.com/photo-1707343844152-6d33a0bb32c3?crop=entropy&cs=tinysrgb&fit=max&fm=jpg&ixid=M3wyMjI4NjZ8MXwxfGFsbHw3Nnx8fHx8fDJ8fDE3MTA2MDEzMTB8&ixlib=rb-4.0.3&q=80&w=1080\n",
      "https://images.unsplash.com/photo-1710400737442-0c8b55ce7012?crop=entropy&cs=tinysrgb&fit=max&fm=jpg&ixid=M3wyMjI4NjZ8MHwxfGFsbHw3N3x8fHx8fDJ8fDE3MTA2MDEzMTB8&ixlib=rb-4.0.3&q=80&w=1080\n",
      "https://images.unsplash.com/photo-1710362921917-2e33bb342a23?crop=entropy&cs=tinysrgb&fit=max&fm=jpg&ixid=M3wyMjI4NjZ8MHwxfGFsbHw3OHx8fHx8fDJ8fDE3MTA2MDEzMTB8&ixlib=rb-4.0.3&q=80&w=1080\n",
      "https://images.unsplash.com/photo-1710381473369-7c75ff666f8d?crop=entropy&cs=tinysrgb&fit=max&fm=jpg&ixid=M3wyMjI4NjZ8MHwxfGFsbHw3OXx8fHx8fDJ8fDE3MTA2MDEzMTB8&ixlib=rb-4.0.3&q=80&w=1080\n",
      "https://images.unsplash.com/photo-1710302043859-6077fea7205a?crop=entropy&cs=tinysrgb&fit=max&fm=jpg&ixid=M3wyMjI4NjZ8MHwxfGFsbHw4MHx8fHx8fDJ8fDE3MTA2MDEzMTB8&ixlib=rb-4.0.3&q=80&w=1080\n",
      "https://images.unsplash.com/photo-1682687220866-c856f566f1bd?crop=entropy&cs=tinysrgb&fit=max&fm=jpg&ixid=M3wyMjI4NjZ8MXwxfGFsbHw4MXx8fHx8fDJ8fDE3MTA2MDEzMTB8&ixlib=rb-4.0.3&q=80&w=1080\n",
      "https://images.unsplash.com/photo-1710214960135-1d348026fbe6?crop=entropy&cs=tinysrgb&fit=max&fm=jpg&ixid=M3wyMjI4NjZ8MHwxfGFsbHw4Mnx8fHx8fDJ8fDE3MTA2MDEzMTB8&ixlib=rb-4.0.3&q=80&w=1080\n",
      "https://images.unsplash.com/photo-1710209614924-6bf12ec19b85?crop=entropy&cs=tinysrgb&fit=max&fm=jpg&ixid=M3wyMjI4NjZ8MHwxfGFsbHw4M3x8fHx8fDJ8fDE3MTA2MDEzMTB8&ixlib=rb-4.0.3&q=80&w=1080\n",
      "https://images.unsplash.com/photo-1710173126005-bc5cb5001b9e?crop=entropy&cs=tinysrgb&fit=max&fm=jpg&ixid=M3wyMjI4NjZ8MHwxfGFsbHw4NHx8fHx8fDJ8fDE3MTA2MDEzMTB8&ixlib=rb-4.0.3&q=80&w=1080\n",
      "https://images.unsplash.com/photo-1710196598764-909ba51da3c2?crop=entropy&cs=tinysrgb&fit=max&fm=jpg&ixid=M3wyMjI4NjZ8MHwxfGFsbHw4NXx8fHx8fDJ8fDE3MTA2MDEzMTB8&ixlib=rb-4.0.3&q=80&w=1080\n",
      "https://images.unsplash.com/photo-1707343848610-16f9afe1ae23?crop=entropy&cs=tinysrgb&fit=max&fm=jpg&ixid=M3wyMjI4NjZ8MXwxfGFsbHw4Nnx8fHx8fDJ8fDE3MTA2MDEzMTB8&ixlib=rb-4.0.3&q=80&w=1080\n",
      "https://images.unsplash.com/photo-1710286124248-0f0a49dd460e?crop=entropy&cs=tinysrgb&fit=max&fm=jpg&ixid=M3wyMjI4NjZ8MHwxfGFsbHw4N3x8fHx8fDJ8fDE3MTA2MDEzMTB8&ixlib=rb-4.0.3&q=80&w=1080\n",
      "https://images.unsplash.com/photo-1710248213192-990ce6b17ea1?crop=entropy&cs=tinysrgb&fit=max&fm=jpg&ixid=M3wyMjI4NjZ8MHwxfGFsbHw4OHx8fHx8fDJ8fDE3MTA2MDEzMTB8&ixlib=rb-4.0.3&q=80&w=1080\n",
      "https://images.unsplash.com/photo-1710273887091-d2c7222a65bc?crop=entropy&cs=tinysrgb&fit=max&fm=jpg&ixid=M3wyMjI4NjZ8MHwxfGFsbHw4OXx8fHx8fDJ8fDE3MTA2MDEzMTB8&ixlib=rb-4.0.3&q=80&w=1080\n",
      "https://images.unsplash.com/photo-1710352492489-ba6d8cbe5bcb?crop=entropy&cs=tinysrgb&fit=max&fm=jpg&ixid=M3wyMjI4NjZ8MHwxfGFsbHw5MHx8fHx8fDJ8fDE3MTA2MDEzMTB8&ixlib=rb-4.0.3&q=80&w=1080\n",
      "https://images.unsplash.com/photo-1682687220363-35e4621ed990?crop=entropy&cs=tinysrgb&fit=max&fm=jpg&ixid=M3wyMjI4NjZ8MXwxfGFsbHw5MXx8fHx8fDJ8fDE3MTA2MDEzMTd8&ixlib=rb-4.0.3&q=80&w=1080\n",
      "https://images.unsplash.com/photo-1710268503380-7f87a599d15b?crop=entropy&cs=tinysrgb&fit=max&fm=jpg&ixid=M3wyMjI4NjZ8MHwxfGFsbHw5Mnx8fHx8fDJ8fDE3MTA2MDEzMTd8&ixlib=rb-4.0.3&q=80&w=1080\n",
      "https://images.unsplash.com/photo-1710246650929-f2758e3666e0?crop=entropy&cs=tinysrgb&fit=max&fm=jpg&ixid=M3wyMjI4NjZ8MHwxfGFsbHw5M3x8fHx8fDJ8fDE3MTA2MDEzMTd8&ixlib=rb-4.0.3&q=80&w=1080\n",
      "https://images.unsplash.com/photo-1707811179851-c1f93698ad46?crop=entropy&cs=tinysrgb&fit=max&fm=jpg&ixid=M3wyMjI4NjZ8MHwxfGFsbHw5NHx8fHx8fDJ8fDE3MTA2MDEzMTd8&ixlib=rb-4.0.3&q=80&w=1080\n",
      "https://images.unsplash.com/photo-1708583382060-5bcfebc34a69?crop=entropy&cs=tinysrgb&fit=max&fm=jpg&ixid=M3wyMjI4NjZ8MHwxfGFsbHw5NXx8fHx8fDJ8fDE3MTA2MDEzMTd8&ixlib=rb-4.0.3&q=80&w=1080\n",
      "https://images.unsplash.com/photo-1707327956851-30a531b70cda?crop=entropy&cs=tinysrgb&fit=max&fm=jpg&ixid=M3wyMjI4NjZ8MXwxfGFsbHw5Nnx8fHx8fDJ8fDE3MTA2MDEzMTd8&ixlib=rb-4.0.3&q=80&w=1080\n",
      "https://images.unsplash.com/photo-1706800696671-570820e7ff39?crop=entropy&cs=tinysrgb&fit=max&fm=jpg&ixid=M3wyMjI4NjZ8MHwxfGFsbHw5N3x8fHx8fDJ8fDE3MTA2MDEzMTd8&ixlib=rb-4.0.3&q=80&w=1080\n",
      "https://images.unsplash.com/photo-1710156348905-0f632a11ce3a?crop=entropy&cs=tinysrgb&fit=max&fm=jpg&ixid=M3wyMjI4NjZ8MHwxfGFsbHw5OHx8fHx8fDJ8fDE3MTA2MDEzMTd8&ixlib=rb-4.0.3&q=80&w=1080\n",
      "https://images.unsplash.com/photo-1710169473427-eaed5969b91b?crop=entropy&cs=tinysrgb&fit=max&fm=jpg&ixid=M3wyMjI4NjZ8MHwxfGFsbHw5OXx8fHx8fDJ8fDE3MTA2MDEzMTd8&ixlib=rb-4.0.3&q=80&w=1080\n",
      "https://images.unsplash.com/photo-1710246650903-55b6f0e3a8fd?crop=entropy&cs=tinysrgb&fit=max&fm=jpg&ixid=M3wyMjI4NjZ8MHwxfGFsbHwxMDB8fHx8fHwyfHwxNzEwNjAxMzE3fA&ixlib=rb-4.0.3&q=80&w=1080\n",
      "https://images.unsplash.com/photo-1682687220640-9d3b11ca30e5?crop=entropy&cs=tinysrgb&fit=max&fm=jpg&ixid=M3wyMjI4NjZ8MXwxfGFsbHwxMDF8fHx8fHwyfHwxNzEwNjAxMzE3fA&ixlib=rb-4.0.3&q=80&w=1080\n",
      "https://images.unsplash.com/photo-1710401518994-278c323610fb?crop=entropy&cs=tinysrgb&fit=max&fm=jpg&ixid=M3wyMjI4NjZ8MHwxfGFsbHwxMDJ8fHx8fHwyfHwxNzEwNjAxMzE3fA&ixlib=rb-4.0.3&q=80&w=1080\n",
      "https://images.unsplash.com/photo-1709433157272-18e3517fb36a?crop=entropy&cs=tinysrgb&fit=max&fm=jpg&ixid=M3wyMjI4NjZ8MHwxfGFsbHwxMDN8fHx8fHwyfHwxNzEwNjAxMzE3fA&ixlib=rb-4.0.3&q=80&w=1080\n",
      "https://images.unsplash.com/photo-1709494795426-2740f2439248?crop=entropy&cs=tinysrgb&fit=max&fm=jpg&ixid=M3wyMjI4NjZ8MHwxfGFsbHwxMDR8fHx8fHwyfHwxNzEwNjAxMzE3fA&ixlib=rb-4.0.3&q=80&w=1080\n",
      "https://images.unsplash.com/photo-1710292036904-3dc60dd14e53?crop=entropy&cs=tinysrgb&fit=max&fm=jpg&ixid=M3wyMjI4NjZ8MHwxfGFsbHwxMDV8fHx8fHwyfHwxNzEwNjAxMzE3fA&ixlib=rb-4.0.3&q=80&w=1080\n",
      "https://images.unsplash.com/photo-1707343844436-37580f155ed2?crop=entropy&cs=tinysrgb&fit=max&fm=jpg&ixid=M3wyMjI4NjZ8MXwxfGFsbHwxMDZ8fHx8fHwyfHwxNzEwNjAxMzE3fA&ixlib=rb-4.0.3&q=80&w=1080\n",
      "https://images.unsplash.com/photo-1710065007570-1c729aeadc5c?crop=entropy&cs=tinysrgb&fit=max&fm=jpg&ixid=M3wyMjI4NjZ8MHwxfGFsbHwxMDd8fHx8fHwyfHwxNzEwNjAxMzE3fA&ixlib=rb-4.0.3&q=80&w=1080\n",
      "https://images.unsplash.com/photo-1709997384132-1fc336977916?crop=entropy&cs=tinysrgb&fit=max&fm=jpg&ixid=M3wyMjI4NjZ8MHwxfGFsbHwxMDh8fHx8fHwyfHwxNzEwNjAxMzE3fA&ixlib=rb-4.0.3&q=80&w=1080\n",
      "https://images.unsplash.com/photo-1710068145544-bafca57baf58?crop=entropy&cs=tinysrgb&fit=max&fm=jpg&ixid=M3wyMjI4NjZ8MHwxfGFsbHwxMDl8fHx8fHwyfHwxNzEwNjAxMzE3fA&ixlib=rb-4.0.3&q=80&w=1080\n",
      "https://images.unsplash.com/photo-1709408925583-a3c0e25b3a51?crop=entropy&cs=tinysrgb&fit=max&fm=jpg&ixid=M3wyMjI4NjZ8MHwxfGFsbHwxMTB8fHx8fHwyfHwxNzEwNjAxMzE3fA&ixlib=rb-4.0.3&q=80&w=1080\n",
      "https://images.unsplash.com/photo-1682687982185-531d09ec56fc?crop=entropy&cs=tinysrgb&fit=max&fm=jpg&ixid=M3wyMjI4NjZ8MXwxfGFsbHwxMTF8fHx8fHwyfHwxNzEwNjAxMzE5fA&ixlib=rb-4.0.3&q=80&w=1080\n",
      "https://images.unsplash.com/photo-1709936863104-b0249fe18c41?crop=entropy&cs=tinysrgb&fit=max&fm=jpg&ixid=M3wyMjI4NjZ8MHwxfGFsbHwxMTJ8fHx8fHwyfHwxNzEwNjAxMzE5fA&ixlib=rb-4.0.3&q=80&w=1080\n",
      "https://images.unsplash.com/photo-1709895353959-5e170f933758?crop=entropy&cs=tinysrgb&fit=max&fm=jpg&ixid=M3wyMjI4NjZ8MHwxfGFsbHwxMTN8fHx8fHwyfHwxNzEwNjAxMzE5fA&ixlib=rb-4.0.3&q=80&w=1080\n",
      "https://images.unsplash.com/photo-1709634539435-f9fccaf0fda1?crop=entropy&cs=tinysrgb&fit=max&fm=jpg&ixid=M3wyMjI4NjZ8MHwxfGFsbHwxMTR8fHx8fHwyfHwxNzEwNjAxMzE5fA&ixlib=rb-4.0.3&q=80&w=1080\n",
      "https://images.unsplash.com/photo-1709488413853-c39d78274479?crop=entropy&cs=tinysrgb&fit=max&fm=jpg&ixid=M3wyMjI4NjZ8MHwxfGFsbHwxMTV8fHx8fHwyfHwxNzEwNjAxMzE5fA&ixlib=rb-4.0.3&q=80&w=1080\n",
      "https://images.unsplash.com/photo-1707345512638-997d31a10eaa?crop=entropy&cs=tinysrgb&fit=max&fm=jpg&ixid=M3wyMjI4NjZ8MXwxfGFsbHwxMTZ8fHx8fHwyfHwxNzEwNjAxMzE5fA&ixlib=rb-4.0.3&q=80&w=1080\n",
      "https://images.unsplash.com/photo-1710237103624-77e1c5b612a8?crop=entropy&cs=tinysrgb&fit=max&fm=jpg&ixid=M3wyMjI4NjZ8MHwxfGFsbHwxMTd8fHx8fHwyfHwxNzEwNjAxMzE5fA&ixlib=rb-4.0.3&q=80&w=1080\n",
      "https://images.unsplash.com/photo-1710079224130-499906a208d8?crop=entropy&cs=tinysrgb&fit=max&fm=jpg&ixid=M3wyMjI4NjZ8MHwxfGFsbHwxMTh8fHx8fHwyfHwxNzEwNjAxMzE5fA&ixlib=rb-4.0.3&q=80&w=1080\n",
      "https://images.unsplash.com/photo-1710104434504-0261d06fa832?crop=entropy&cs=tinysrgb&fit=max&fm=jpg&ixid=M3wyMjI4NjZ8MHwxfGFsbHwxMTl8fHx8fHwyfHwxNzEwNjAxMzE5fA&ixlib=rb-4.0.3&q=80&w=1080\n",
      "https://images.unsplash.com/photo-1709828593321-48973262f23e?crop=entropy&cs=tinysrgb&fit=max&fm=jpg&ixid=M3wyMjI4NjZ8MHwxfGFsbHwxMjB8fHx8fHwyfHwxNzEwNjAxMzE5fA&ixlib=rb-4.0.3&q=80&w=1080\n",
      "https://images.unsplash.com/photo-1682695794816-7b9da18ed470?crop=entropy&cs=tinysrgb&fit=max&fm=jpg&ixid=M3wyMjI4NjZ8MXwxfGFsbHwxMjF8fHx8fHwyfHwxNzEwNjAxMzE5fA&ixlib=rb-4.0.3&q=80&w=1080\n",
      "https://images.unsplash.com/photo-1706883376540-b21e5559fc45?crop=entropy&cs=tinysrgb&fit=max&fm=jpg&ixid=M3wyMjI4NjZ8MHwxfGFsbHwxMjJ8fHx8fHwyfHwxNzEwNjAxMzE5fA&ixlib=rb-4.0.3&q=80&w=1080\n",
      "https://images.unsplash.com/photo-1706702355789-4812f788f763?crop=entropy&cs=tinysrgb&fit=max&fm=jpg&ixid=M3wyMjI4NjZ8MHwxfGFsbHwxMjN8fHx8fHwyfHwxNzEwNjAxMzE5fA&ixlib=rb-4.0.3&q=80&w=1080\n",
      "https://images.unsplash.com/photo-1705323111381-681f06e96675?crop=entropy&cs=tinysrgb&fit=max&fm=jpg&ixid=M3wyMjI4NjZ8MHwxfGFsbHwxMjR8fHx8fHwyfHwxNzEwNjAxMzE5fA&ixlib=rb-4.0.3&q=80&w=1080\n",
      "https://images.unsplash.com/photo-1705374464124-42c35f96da9f?crop=entropy&cs=tinysrgb&fit=max&fm=jpg&ixid=M3wyMjI4NjZ8MHwxfGFsbHwxMjV8fHx8fHwyfHwxNzEwNjAxMzE5fA&ixlib=rb-4.0.3&q=80&w=1080\n",
      "https://images.unsplash.com/photo-1707343843437-caacff5cfa74?crop=entropy&cs=tinysrgb&fit=max&fm=jpg&ixid=M3wyMjI4NjZ8MXwxfGFsbHwxMjZ8fHx8fHwyfHwxNzEwNjAxMzE5fA&ixlib=rb-4.0.3&q=80&w=1080\n",
      "https://images.unsplash.com/photo-1705499438100-fff66a0fce50?crop=entropy&cs=tinysrgb&fit=max&fm=jpg&ixid=M3wyMjI4NjZ8MHwxfGFsbHwxMjd8fHx8fHwyfHwxNzEwNjAxMzE5fA&ixlib=rb-4.0.3&q=80&w=1080\n",
      "https://images.unsplash.com/photo-1707613850087-72aa25a8d462?crop=entropy&cs=tinysrgb&fit=max&fm=jpg&ixid=M3wyMjI4NjZ8MHwxfGFsbHwxMjh8fHx8fHwyfHwxNzEwNjAxMzE5fA&ixlib=rb-4.0.3&q=80&w=1080\n",
      "https://images.unsplash.com/photo-1710172510079-fe595c6009fd?crop=entropy&cs=tinysrgb&fit=max&fm=jpg&ixid=M3wyMjI4NjZ8MHwxfGFsbHwxMjl8fHx8fHwyfHwxNzEwNjAxMzE5fA&ixlib=rb-4.0.3&q=80&w=1080\n",
      "https://images.unsplash.com/photo-1710246265730-d4f722ec11cc?crop=entropy&cs=tinysrgb&fit=max&fm=jpg&ixid=M3wyMjI4NjZ8MHwxfGFsbHwxMzB8fHx8fHwyfHwxNzEwNjAxMzE5fA&ixlib=rb-4.0.3&q=80&w=1080\n",
      "https://images.unsplash.com/photo-1682695796795-cc287af78a2b?crop=entropy&cs=tinysrgb&fit=max&fm=jpg&ixid=M3wyMjI4NjZ8MXwxfGFsbHwxMzF8fHx8fHwyfHwxNzEwNjAxMzE5fA&ixlib=rb-4.0.3&q=80&w=1080\n",
      "https://images.unsplash.com/photo-1707080193931-187cb67d8a51?crop=entropy&cs=tinysrgb&fit=max&fm=jpg&ixid=M3wyMjI4NjZ8MHwxfGFsbHwxMzJ8fHx8fHwyfHwxNzEwNjAxMzE5fA&ixlib=rb-4.0.3&q=80&w=1080\n",
      "https://images.unsplash.com/photo-1707423948446-95e2604d4f8d?crop=entropy&cs=tinysrgb&fit=max&fm=jpg&ixid=M3wyMjI4NjZ8MHwxfGFsbHwxMzN8fHx8fHwyfHwxNzEwNjAxMzE5fA&ixlib=rb-4.0.3&q=80&w=1080\n",
      "https://images.unsplash.com/photo-1708923262250-09c61f1bb6a7?crop=entropy&cs=tinysrgb&fit=max&fm=jpg&ixid=M3wyMjI4NjZ8MHwxfGFsbHwxMzR8fHx8fHwyfHwxNzEwNjAxMzE5fA&ixlib=rb-4.0.3&q=80&w=1080\n",
      "https://images.unsplash.com/photo-1707009504312-53faa6c1cecd?crop=entropy&cs=tinysrgb&fit=max&fm=jpg&ixid=M3wyMjI4NjZ8MHwxfGFsbHwxMzV8fHx8fHwyfHwxNzEwNjAxMzE5fA&ixlib=rb-4.0.3&q=80&w=1080\n",
      "https://images.unsplash.com/photo-1707343848723-bd87dea7b118?crop=entropy&cs=tinysrgb&fit=max&fm=jpg&ixid=M3wyMjI4NjZ8MXwxfGFsbHwxMzZ8fHx8fHwyfHwxNzEwNjAxMzE5fA&ixlib=rb-4.0.3&q=80&w=1080\n",
      "https://images.unsplash.com/photo-1709828238515-35189879a02c?crop=entropy&cs=tinysrgb&fit=max&fm=jpg&ixid=M3wyMjI4NjZ8MHwxfGFsbHwxMzd8fHx8fHwyfHwxNzEwNjAxMzE5fA&ixlib=rb-4.0.3&q=80&w=1080\n",
      "https://images.unsplash.com/photo-1709990742347-07f67cc136cf?crop=entropy&cs=tinysrgb&fit=max&fm=jpg&ixid=M3wyMjI4NjZ8MHwxfGFsbHwxMzh8fHx8fHwyfHwxNzEwNjAxMzE5fA&ixlib=rb-4.0.3&q=80&w=1080\n",
      "https://images.unsplash.com/photo-1709927628742-c3da31d7707f?crop=entropy&cs=tinysrgb&fit=max&fm=jpg&ixid=M3wyMjI4NjZ8MHwxfGFsbHwxMzl8fHx8fHwyfHwxNzEwNjAxMzE5fA&ixlib=rb-4.0.3&q=80&w=1080\n",
      "https://images.unsplash.com/photo-1710192230031-f84519765f81?crop=entropy&cs=tinysrgb&fit=max&fm=jpg&ixid=M3wyMjI4NjZ8MHwxfGFsbHwxNDB8fHx8fHwyfHwxNzEwNjAxMzE5fA&ixlib=rb-4.0.3&q=80&w=1080\n",
      "https://images.unsplash.com/photo-1682686580024-580519d4b2d2?crop=entropy&cs=tinysrgb&fit=max&fm=jpg&ixid=M3wyMjI4NjZ8MXwxfGFsbHwxNDF8fHx8fHwyfHwxNzEwNjAxMzIyfA&ixlib=rb-4.0.3&q=80&w=1080\n",
      "https://images.unsplash.com/photo-1710092151905-a1bdb0cfb071?crop=entropy&cs=tinysrgb&fit=max&fm=jpg&ixid=M3wyMjI4NjZ8MHwxfGFsbHwxNDJ8fHx8fHwyfHwxNzEwNjAxMzIyfA&ixlib=rb-4.0.3&q=80&w=1080\n",
      "https://images.unsplash.com/photo-1710319412580-ee88720571cb?crop=entropy&cs=tinysrgb&fit=max&fm=jpg&ixid=M3wyMjI4NjZ8MHwxfGFsbHwxNDN8fHx8fHwyfHwxNzEwNjAxMzIyfA&ixlib=rb-4.0.3&q=80&w=1080\n",
      "https://images.unsplash.com/photo-1709992223756-cb0516074e95?crop=entropy&cs=tinysrgb&fit=max&fm=jpg&ixid=M3wyMjI4NjZ8MHwxfGFsbHwxNDR8fHx8fHwyfHwxNzEwNjAxMzIyfA&ixlib=rb-4.0.3&q=80&w=1080\n",
      "https://images.unsplash.com/photo-1709990740078-05aa8ee5b9b7?crop=entropy&cs=tinysrgb&fit=max&fm=jpg&ixid=M3wyMjI4NjZ8MHwxfGFsbHwxNDV8fHx8fHwyfHwxNzEwNjAxMzIyfA&ixlib=rb-4.0.3&q=80&w=1080\n",
      "https://images.unsplash.com/photo-1707343848873-d6a834b5f9b9?crop=entropy&cs=tinysrgb&fit=max&fm=jpg&ixid=M3wyMjI4NjZ8MXwxfGFsbHwxNDZ8fHx8fHwyfHwxNzEwNjAxMzIyfA&ixlib=rb-4.0.3&q=80&w=1080\n",
      "https://images.unsplash.com/photo-1709490893793-0947fe525f01?crop=entropy&cs=tinysrgb&fit=max&fm=jpg&ixid=M3wyMjI4NjZ8MHwxfGFsbHwxNDd8fHx8fHwyfHwxNzEwNjAxMzIyfA&ixlib=rb-4.0.3&q=80&w=1080\n",
      "https://images.unsplash.com/photo-1709439377248-d03a69358c75?crop=entropy&cs=tinysrgb&fit=max&fm=jpg&ixid=M3wyMjI4NjZ8MHwxfGFsbHwxNDh8fHx8fHwyfHwxNzEwNjAxMzIyfA&ixlib=rb-4.0.3&q=80&w=1080\n",
      "https://images.unsplash.com/photo-1709983967254-8c9242701cdd?crop=entropy&cs=tinysrgb&fit=max&fm=jpg&ixid=M3wyMjI4NjZ8MHwxfGFsbHwxNDl8fHx8fHwyfHwxNzEwNjAxMzIyfA&ixlib=rb-4.0.3&q=80&w=1080\n",
      "https://images.unsplash.com/photo-1708791416184-fe5f5ed40bad?crop=entropy&cs=tinysrgb&fit=max&fm=jpg&ixid=M3wyMjI4NjZ8MHwxfGFsbHwxNTB8fHx8fHwyfHwxNzEwNjAxMzIyfA&ixlib=rb-4.0.3&q=80&w=1080\n",
      "https://images.unsplash.com/photo-1682685797898-6d7587974771?crop=entropy&cs=tinysrgb&fit=max&fm=jpg&ixid=M3wyMjI4NjZ8MXwxfGFsbHwxNTF8fHx8fHwyfHwxNzEwNjAxMzIyfA&ixlib=rb-4.0.3&q=80&w=1080\n",
      "https://images.unsplash.com/photo-1708576086109-0fce021a566f?crop=entropy&cs=tinysrgb&fit=max&fm=jpg&ixid=M3wyMjI4NjZ8MHwxfGFsbHwxNTJ8fHx8fHwyfHwxNzEwNjAxMzIyfA&ixlib=rb-4.0.3&q=80&w=1080\n",
      "https://images.unsplash.com/photo-1708585267785-fb2ab964f63e?crop=entropy&cs=tinysrgb&fit=max&fm=jpg&ixid=M3wyMjI4NjZ8MHwxfGFsbHwxNTN8fHx8fHwyfHwxNzEwNjAxMzIyfA&ixlib=rb-4.0.3&q=80&w=1080\n",
      "https://images.unsplash.com/photo-1710279750007-15bbdcc94033?crop=entropy&cs=tinysrgb&fit=max&fm=jpg&ixid=M3wyMjI4NjZ8MHwxfGFsbHwxNTR8fHx8fHwyfHwxNzEwNjAxMzIyfA&ixlib=rb-4.0.3&q=80&w=1080\n",
      "https://images.unsplash.com/photo-1710302004005-f5c4b87fac37?crop=entropy&cs=tinysrgb&fit=max&fm=jpg&ixid=M3wyMjI4NjZ8MHwxfGFsbHwxNTV8fHx8fHwyfHwxNzEwNjAxMzIyfA&ixlib=rb-4.0.3&q=80&w=1080\n",
      "https://images.unsplash.com/photo-1708649290066-5f617003b93f?crop=entropy&cs=tinysrgb&fit=max&fm=jpg&ixid=M3wyMjI4NjZ8MXwxfGFsbHwxNTZ8fHx8fHwyfHwxNzEwNjAxMzIyfA&ixlib=rb-4.0.3&q=80&w=1080\n",
      "https://images.unsplash.com/photo-1710125888693-deb4fd7516b5?crop=entropy&cs=tinysrgb&fit=max&fm=jpg&ixid=M3wyMjI4NjZ8MHwxfGFsbHwxNTd8fHx8fHwyfHwxNzEwNjAxMzIyfA&ixlib=rb-4.0.3&q=80&w=1080\n",
      "https://images.unsplash.com/photo-1710228736245-5cb0efd30657?crop=entropy&cs=tinysrgb&fit=max&fm=jpg&ixid=M3wyMjI4NjZ8MHwxfGFsbHwxNTh8fHx8fHwyfHwxNzEwNjAxMzIyfA&ixlib=rb-4.0.3&q=80&w=1080\n",
      "https://images.unsplash.com/photo-1710183327912-b8c95b5e1442?crop=entropy&cs=tinysrgb&fit=max&fm=jpg&ixid=M3wyMjI4NjZ8MHwxfGFsbHwxNTl8fHx8fHwyfHwxNzEwNjAxMzIyfA&ixlib=rb-4.0.3&q=80&w=1080\n",
      "https://images.unsplash.com/photo-1709796590657-7d54c981e61f?crop=entropy&cs=tinysrgb&fit=max&fm=jpg&ixid=M3wyMjI4NjZ8MHwxfGFsbHwxNjB8fHx8fHwyfHwxNzEwNjAxMzIyfA&ixlib=rb-4.0.3&q=80&w=1080\n",
      "https://images.unsplash.com/photo-1683009427540-c5bd6a32abf6?crop=entropy&cs=tinysrgb&fit=max&fm=jpg&ixid=M3wyMjI4NjZ8MXwxfGFsbHwxNjF8fHx8fHwyfHwxNzEwNjAxMzIyfA&ixlib=rb-4.0.3&q=80&w=1080\n",
      "https://images.unsplash.com/photo-1476458438255-0ab285b38cb7?crop=entropy&cs=tinysrgb&fit=max&fm=jpg&ixid=M3wyMjI4NjZ8MHwxfGFsbHwxNjJ8fHx8fHwyfHwxNzEwNjAxMzIyfA&ixlib=rb-4.0.3&q=80&w=1080\n",
      "https://images.unsplash.com/photo-1710069455025-f294936edb43?crop=entropy&cs=tinysrgb&fit=max&fm=jpg&ixid=M3wyMjI4NjZ8MHwxfGFsbHwxNjN8fHx8fHwyfHwxNzEwNjAxMzIyfA&ixlib=rb-4.0.3&q=80&w=1080\n",
      "https://images.unsplash.com/photo-1710007362468-e0f7556a0e15?crop=entropy&cs=tinysrgb&fit=max&fm=jpg&ixid=M3wyMjI4NjZ8MHwxfGFsbHwxNjR8fHx8fHwyfHwxNzEwNjAxMzIyfA&ixlib=rb-4.0.3&q=80&w=1080\n",
      "https://images.unsplash.com/photo-1709596045802-2cfdeb13eba4?crop=entropy&cs=tinysrgb&fit=max&fm=jpg&ixid=M3wyMjI4NjZ8MHwxfGFsbHwxNjV8fHx8fHwyfHwxNzEwNjAxMzIyfA&ixlib=rb-4.0.3&q=80&w=1080\n",
      "https://images.unsplash.com/photo-1707343846292-56e4c6abf291?crop=entropy&cs=tinysrgb&fit=max&fm=jpg&ixid=M3wyMjI4NjZ8MXwxfGFsbHwxNjZ8fHx8fHwyfHwxNzEwNjAxMzIyfA&ixlib=rb-4.0.3&q=80&w=1080\n",
      "https://images.unsplash.com/photo-1709593998732-2babc527e795?crop=entropy&cs=tinysrgb&fit=max&fm=jpg&ixid=M3wyMjI4NjZ8MHwxfGFsbHwxNjd8fHx8fHwyfHwxNzEwNjAxMzIyfA&ixlib=rb-4.0.3&q=80&w=1080\n",
      "https://images.unsplash.com/photo-1709593491098-200afffca0a5?crop=entropy&cs=tinysrgb&fit=max&fm=jpg&ixid=M3wyMjI4NjZ8MHwxfGFsbHwxNjh8fHx8fHwyfHwxNzEwNjAxMzIyfA&ixlib=rb-4.0.3&q=80&w=1080\n",
      "https://images.unsplash.com/photo-1710092662335-065cdbfb9781?crop=entropy&cs=tinysrgb&fit=max&fm=jpg&ixid=M3wyMjI4NjZ8MHwxfGFsbHwxNjl8fHx8fHwyfHwxNzEwNjAxMzIyfA&ixlib=rb-4.0.3&q=80&w=1080\n",
      "https://images.unsplash.com/photo-1709983965653-4a00ed4d0f42?crop=entropy&cs=tinysrgb&fit=max&fm=jpg&ixid=M3wyMjI4NjZ8MHwxfGFsbHwxNzB8fHx8fHwyfHwxNzEwNjAxMzIyfA&ixlib=rb-4.0.3&q=80&w=1080\n"
     ]
    }
   ],
   "source": [
    "data=[]\n",
    "for d in soup.find_all('article' ,class_=\"photo\"):\n",
    "   link=d.find('img').get('src')\n",
    "   likes=d.find('div',class_=\"photo-info\").text.split(' ')\n",
    "   print(link)\n",
    "   \n",
    "   data.append([link,likes])\n",
    "\n",
    "\n"
   ]
  },
  {
   "cell_type": "code",
   "execution_count": 80,
   "metadata": {},
   "outputs": [
    {
     "data": {
      "text/plain": [
       "'https://images.unsplash.com/photo-1682686580452-37f1892ee5e8?crop=entropy&cs=tinysrgb&fit=max&fm=jpg&ixid=M3wyMjI4NjZ8MXwxfGFsbHwxfHx8fHx8Mnx8MTcxMDU5OTUxNXw&ixlib=rb-4.0.3&q=80&w=1080'"
      ]
     },
     "execution_count": 80,
     "metadata": {},
     "output_type": "execute_result"
    }
   ],
   "source": [
    "data[0][0]"
   ]
  },
  {
   "cell_type": "code",
   "execution_count": 52,
   "metadata": {},
   "outputs": [
    {
     "data": {
      "text/plain": [
       "'https://images.unsplash.com/photo-1682686580452-37f1892ee5e8?crop=entropy&cs=tinysrgb&fit=max&fm=jpg&ixid=M3wyMjI4NjZ8MXwxfGFsbHwxfHx8fHx8Mnx8MTcxMDU5OTUxNXw&ixlib=rb-4.0.3&q=80&w=1080'"
      ]
     },
     "execution_count": 52,
     "metadata": {},
     "output_type": "execute_result"
    }
   ],
   "source": [
    ")"
   ]
  },
  {
   "cell_type": "code",
   "execution_count": 50,
   "metadata": {},
   "outputs": [
    {
     "data": {
      "text/plain": [
       "<article class=\"photo\"><img alt=\"an aerial view of a desert with rocks and sand\" src=\"https://images.unsplash.com/photo-1682686580452-37f1892ee5e8?crop=entropy&amp;cs=tinysrgb&amp;fit=max&amp;fm=jpg&amp;ixid=M3wyMjI4NjZ8MXwxfGFsbHwxfHx8fHx8Mnx8MTcxMDU5OTUxNXw&amp;ixlib=rb-4.0.3&amp;q=80&amp;w=1080\"/><div class=\"photo-info\"><div><h4>NEOM</h4><p>317 likes</p></div><a href=\"http://www.neom.com\"><img alt=\"NEOM\" class=\"user-img\" src=\"https://images.unsplash.com/profile-1679489218992-ebe823c797dfimage?ixlib=rb-4.0.3&amp;crop=faces&amp;fit=crop&amp;w=64&amp;h=64\"/></a></div></article>"
      ]
     },
     "execution_count": 50,
     "metadata": {},
     "output_type": "execute_result"
    }
   ],
   "source": [
    "soup.find('article' ,class_=\"photo\")"
   ]
  },
  {
   "cell_type": "code",
   "execution_count": 58,
   "metadata": {},
   "outputs": [
    {
     "data": {
      "text/plain": [
       "'NEOM317'"
      ]
     },
     "execution_count": 58,
     "metadata": {},
     "output_type": "execute_result"
    }
   ],
   "source": [
    "d.find('div',class_=\"photo-info\").text.split(' ')[0]"
   ]
  },
  {
   "cell_type": "code",
   "execution_count": 71,
   "metadata": {},
   "outputs": [],
   "source": [
    "import pandas as pd\n",
    "df=pd.DataFrame(data,columns=['link','likes'])"
   ]
  },
  {
   "cell_type": "code",
   "execution_count": 89,
   "metadata": {},
   "outputs": [
    {
     "data": {
      "text/plain": [
       "'photo-1682686580452-37f1892ee5e8?crop=entropy&cs=tinysrgb&fit=max&fm=jpg&ixid=M3wyMjI4NjZ8MXwxfGFsbHwxfHx8fHx8Mnx8MTcxMDU5OTUxNXw&ixlib=rb-4.0.3&q=80&w=1080'"
      ]
     },
     "execution_count": 89,
     "metadata": {},
     "output_type": "execute_result"
    }
   ],
   "source": [
    "df[\"link\"][0].split('/')[-1]"
   ]
  },
  {
   "cell_type": "code",
   "execution_count": 73,
   "metadata": {},
   "outputs": [
    {
     "data": {
      "text/plain": [
       "0                               [NEOM317, likes]\n",
       "1                   [Eugene, Golovesov29, likes]\n",
       "2                   [Polina, Kuzovkova10, likes]\n",
       "3                     [Yana, Gorbunova33, likes]\n",
       "4                   [Євгенія, Височина25, likes]\n",
       "                         ...                    \n",
       "175                             [NEOM119, likes]\n",
       "176                            [szm, 434, likes]\n",
       "177             [Kateryna, Hliznitsova45, likes]\n",
       "178    [Federico, Di, Dio, photography54, likes]\n",
       "179               [micheile, henderson73, likes]\n",
       "Name: likes, Length: 180, dtype: object"
      ]
     },
     "execution_count": 73,
     "metadata": {},
     "output_type": "execute_result"
    }
   ],
   "source": [
    "df[\"likes\"]"
   ]
  },
  {
   "cell_type": "code",
   "execution_count": 74,
   "metadata": {},
   "outputs": [],
   "source": [
    "df.to_csv('imagelink.csv')"
   ]
  },
  {
   "cell_type": "code",
   "execution_count": 75,
   "metadata": {},
   "outputs": [],
   "source": [
    "import requests\n"
   ]
  },
  {
   "cell_type": "code",
   "execution_count": 91,
   "metadata": {},
   "outputs": [],
   "source": [
    "c=0\n",
    "for link in df['link']:\n",
    "    res=requests.get(link)\n",
    "    fd=open('Imgs/'+str(c)+'.jpg','wb')\n",
    "    fd.write(res.content)\n",
    "    c=c+1\n",
    "    fd.close()"
   ]
  },
  {
   "cell_type": "code",
   "execution_count": 92,
   "metadata": {},
   "outputs": [
    {
     "name": "stdout",
     "output_type": "stream",
     "text": [
      "<Response [200]>\n"
     ]
    }
   ],
   "source": [
    "print(res)"
   ]
  },
  {
   "cell_type": "code",
   "execution_count": 93,
   "metadata": {},
   "outputs": [
    {
     "name": "stdout",
     "output_type": "stream",
     "text": [
      "Defaulting to user installation because normal site-packages is not writeable\n",
      "Collecting scikit-fuzzy\n",
      "  Downloading scikit-fuzzy-0.4.2.tar.gz (993 kB)\n",
      "     ---------------------------------------- 0.0/994.0 kB ? eta -:--:--\n",
      "     ---------------------------------------- 10.2/994.0 kB ? eta -:--:--\n",
      "     - ----------------------------------- 30.7/994.0 kB 325.1 kB/s eta 0:00:03\n",
      "     -- ---------------------------------- 61.4/994.0 kB 465.5 kB/s eta 0:00:03\n",
      "     ---- ------------------------------- 112.6/994.0 kB 652.2 kB/s eta 0:00:02\n",
      "     ---- ------------------------------- 112.6/994.0 kB 652.2 kB/s eta 0:00:02\n",
      "     ---- ------------------------------- 112.6/994.0 kB 652.2 kB/s eta 0:00:02\n",
      "     ---- ------------------------------- 112.6/994.0 kB 652.2 kB/s eta 0:00:02\n",
      "     ---- ------------------------------- 112.6/994.0 kB 652.2 kB/s eta 0:00:02\n",
      "     ---- ------------------------------- 112.6/994.0 kB 652.2 kB/s eta 0:00:02\n",
      "     ---- ------------------------------- 112.6/994.0 kB 652.2 kB/s eta 0:00:02\n",
      "     ---- ------------------------------- 112.6/994.0 kB 652.2 kB/s eta 0:00:02\n",
      "     ---- ------------------------------- 112.6/994.0 kB 652.2 kB/s eta 0:00:02\n",
      "     ---- ------------------------------- 112.6/994.0 kB 652.2 kB/s eta 0:00:02\n",
      "     ---- ------------------------------- 112.6/994.0 kB 652.2 kB/s eta 0:00:02\n",
      "     ---- ------------------------------- 112.6/994.0 kB 652.2 kB/s eta 0:00:02\n",
      "     ---- ------------------------------- 112.6/994.0 kB 652.2 kB/s eta 0:00:02\n",
      "     ---- ------------------------------- 112.6/994.0 kB 652.2 kB/s eta 0:00:02\n",
      "     ---- ------------------------------- 112.6/994.0 kB 652.2 kB/s eta 0:00:02\n",
      "     ---- ------------------------------- 112.6/994.0 kB 652.2 kB/s eta 0:00:02\n",
      "     ---- ------------------------------- 112.6/994.0 kB 652.2 kB/s eta 0:00:02\n",
      "     -------- --------------------------- 225.3/994.0 kB 229.3 kB/s eta 0:00:04\n",
      "     -------- --------------------------- 225.3/994.0 kB 229.3 kB/s eta 0:00:04\n",
      "     -------- --------------------------- 225.3/994.0 kB 229.3 kB/s eta 0:00:04\n",
      "     -------- --------------------------- 235.5/994.0 kB 215.2 kB/s eta 0:00:04\n",
      "     --------- -------------------------- 256.0/994.0 kB 221.4 kB/s eta 0:00:04\n",
      "     ---------- ------------------------- 286.7/994.0 kB 232.7 kB/s eta 0:00:04\n",
      "     ------------ ----------------------- 358.4/994.0 kB 281.9 kB/s eta 0:00:03\n",
      "     ---------------- ------------------- 450.6/994.0 kB 343.5 kB/s eta 0:00:02\n",
      "     ------------------- ---------------- 542.7/994.0 kB 400.7 kB/s eta 0:00:02\n",
      "     ---------------------- ------------- 624.6/994.0 kB 446.8 kB/s eta 0:00:01\n",
      "     ------------------------- ---------- 706.6/994.0 kB 494.9 kB/s eta 0:00:01\n",
      "     ----------------------------- ------ 809.0/994.0 kB 543.7 kB/s eta 0:00:01\n",
      "     -------------------------------- --- 890.9/994.0 kB 580.9 kB/s eta 0:00:01\n",
      "     -----------------------------------  972.8/994.0 kB 622.2 kB/s eta 0:00:01\n",
      "     ------------------------------------ 994.0/994.0 kB 617.2 kB/s eta 0:00:00\n",
      "  Preparing metadata (setup.py): started\n",
      "  Preparing metadata (setup.py): finished with status 'done'\n",
      "Requirement already satisfied: numpy>=1.6.0 in c:\\programdata\\anaconda3\\lib\\site-packages (from scikit-fuzzy) (1.24.3)\n",
      "Requirement already satisfied: scipy>=0.9.0 in c:\\programdata\\anaconda3\\lib\\site-packages (from scikit-fuzzy) (1.11.3)\n",
      "Requirement already satisfied: networkx>=1.9.0 in c:\\programdata\\anaconda3\\lib\\site-packages (from scikit-fuzzy) (3.1)\n",
      "Building wheels for collected packages: scikit-fuzzy\n",
      "  Building wheel for scikit-fuzzy (setup.py): started\n",
      "  Building wheel for scikit-fuzzy (setup.py): finished with status 'done'\n",
      "  Created wheel for scikit-fuzzy: filename=scikit_fuzzy-0.4.2-py3-none-any.whl size=894084 sha256=dd0b02b44ee6d25aacf60df4ba59456a85f5987b716f218f72c4a6570bba4127\n",
      "  Stored in directory: c:\\users\\shreenath s hebbar\\appdata\\local\\pip\\cache\\wheels\\b1\\67\\d1\\6c29aeb1cd2d36447ad5b0de027580b8894aff702a9b50041e\n",
      "Successfully built scikit-fuzzy\n",
      "Installing collected packages: scikit-fuzzy\n",
      "Successfully installed scikit-fuzzy-0.4.2\n"
     ]
    }
   ],
   "source": [
    "! pip install -U scikit-fuzzy"
   ]
  },
  {
   "cell_type": "code",
   "execution_count": 17,
   "metadata": {},
   "outputs": [
    {
     "name": "stdout",
     "output_type": "stream",
     "text": [
      "Defaulting to user installation because normal site-packages is not writeable\n",
      "Requirement already satisfied: experta in c:\\users\\shreenath s hebbar\\appdata\\roaming\\python\\python311\\site-packages (1.9.4)\n",
      "Requirement already satisfied: frozendict in c:\\users\\shreenath s hebbar\\appdata\\roaming\\python\\python311\\site-packages (1.2)\n",
      "Collecting frozendict\n",
      "  Downloading frozendict-2.4.0.tar.gz (314 kB)\n",
      "     ---------------------------------------- 0.0/314.6 kB ? eta -:--:--\n",
      "     - -------------------------------------- 10.2/314.6 kB ? eta -:--:--\n",
      "     --- --------------------------------- 30.7/314.6 kB 262.6 kB/s eta 0:00:02\n",
      "     ------- ----------------------------- 61.4/314.6 kB 365.7 kB/s eta 0:00:01\n",
      "     ------------------------------ ------- 256.0/314.6 kB 1.3 MB/s eta 0:00:01\n",
      "     -------------------------------------- 314.6/314.6 kB 1.4 MB/s eta 0:00:00\n",
      "  Installing build dependencies: started\n",
      "  Installing build dependencies: finished with status 'done'\n",
      "  Getting requirements to build wheel: started\n",
      "  Getting requirements to build wheel: finished with status 'done'\n",
      "  Preparing metadata (pyproject.toml): started\n",
      "  Preparing metadata (pyproject.toml): finished with status 'done'\n",
      "Requirement already satisfied: schema==0.6.7 in c:\\users\\shreenath s hebbar\\appdata\\roaming\\python\\python311\\site-packages (from experta) (0.6.7)\n"
     ]
    }
   ],
   "source": [
    "!pip install --upgrade experta frozendict\n",
    "\n"
   ]
  },
  {
   "cell_type": "code",
   "execution_count": 85,
   "metadata": {},
   "outputs": [
    {
     "name": "stdout",
     "output_type": "stream",
     "text": [
      "Mahatma Gandhi.txt\n",
      "book.csv\n",
      "imagelink.csv\n",
      "main.html\n",
      "quotes.csv\n",
      "web1.ipynb\n",
      "web2.ipynb\n",
      "web3.ipynb\n",
      "web4.ipynb\n",
      "web5.ipynb\n",
      "youtube1.csv\n"
     ]
    }
   ],
   "source": [
    "!ls"
   ]
  },
  {
   "cell_type": "code",
   "execution_count": null,
   "metadata": {},
   "outputs": [],
   "source": []
  }
 ],
 "metadata": {
  "kernelspec": {
   "display_name": "base",
   "language": "python",
   "name": "python3"
  },
  "language_info": {
   "codemirror_mode": {
    "name": "ipython",
    "version": 3
   },
   "file_extension": ".py",
   "mimetype": "text/x-python",
   "name": "python",
   "nbconvert_exporter": "python",
   "pygments_lexer": "ipython3",
   "version": "3.11.5"
  }
 },
 "nbformat": 4,
 "nbformat_minor": 2
}
